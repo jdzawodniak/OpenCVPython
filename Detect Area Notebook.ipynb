{
 "cells": [
  {
   "cell_type": "markdown",
   "id": "ff767deb",
   "metadata": {},
   "source": [
    "This project seek to capture the area of an item captured by the USB web cam for sorting in future state.\n"
   ]
  },
  {
   "cell_type": "code",
   "execution_count": null,
   "id": "b04ffc50",
   "metadata": {},
   "outputs": [],
   "source": [
    "# install open cv library\n",
    "!pip install opencv-python-headless"
   ]
  },
  {
   "cell_type": "code",
   "execution_count": 10,
   "id": "27410265",
   "metadata": {},
   "outputs": [
    {
     "name": "stdout",
     "output_type": "stream",
     "text": [
      "4.5.1\n"
     ]
    }
   ],
   "source": [
    "import cv2\n",
    "print (cv2.__version__)\n"
   ]
  },
  {
   "cell_type": "code",
   "execution_count": null,
   "id": "349b5b10",
   "metadata": {},
   "outputs": [],
   "source": []
  }
 ],
 "metadata": {
  "kernelspec": {
   "display_name": "Python 3",
   "language": "python",
   "name": "python3"
  },
  "language_info": {
   "codemirror_mode": {
    "name": "ipython",
    "version": 3
   },
   "file_extension": ".py",
   "mimetype": "text/x-python",
   "name": "python",
   "nbconvert_exporter": "python",
   "pygments_lexer": "ipython3",
   "version": "3.9.4"
  }
 },
 "nbformat": 4,
 "nbformat_minor": 5
}
