{
 "cells": [
  {
   "cell_type": "markdown",
   "id": "ff767deb",
   "metadata": {},
   "source": [
    "This project seek to capture the area of an item captured by the USB web cam for sorting in future state.\n"
   ]
  },
  {
   "cell_type": "code",
   "execution_count": null,
   "id": "e50d1abd",
   "metadata": {},
   "outputs": [],
   "source": [
    "# install open cv library\n",
    "!pip install opencv-python-headless"
   ]
  },
  {
   "cell_type": "code",
   "execution_count": null,
   "id": "27410265",
   "metadata": {},
   "outputs": [],
   "source": [
    "import cv2\n",
    "# LOAD AN IMAGE USING 'IMREAD'\n",
    "img = cv2.imread(\"Resources/lena.png\")\n",
    "# DISPLAY\n",
    "cv2.imshow(\"Lena Soderberg\",img)\n",
    "cv2.waitKey(0)"
   ]
  },
  {
   "cell_type": "code",
   "execution_count": null,
   "id": "349b5b10",
   "metadata": {},
   "outputs": [],
   "source": []
  }
 ],
 "metadata": {
  "kernelspec": {
   "display_name": "Python 3",
   "language": "python",
   "name": "python3"
  },
  "language_info": {
   "codemirror_mode": {
    "name": "ipython",
    "version": 3
   },
   "file_extension": ".py",
   "mimetype": "text/x-python",
   "name": "python",
   "nbconvert_exporter": "python",
   "pygments_lexer": "ipython3",
   "version": "3.9.4"
  }
 },
 "nbformat": 4,
 "nbformat_minor": 5
}
