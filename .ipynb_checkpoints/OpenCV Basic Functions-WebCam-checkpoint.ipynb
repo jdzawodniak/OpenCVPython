{
 "cells": [
  {
   "cell_type": "markdown",
   "id": "5b94d054",
   "metadata": {},
   "source": [
    "# Using Webcam with Jupyter\n",
    "\n",
    "This notebook confirms the operation of OpenCV within Jupyter.  It seeks to confirm the ablity to display video within the Jupyter framework.\n",
    "\n",
    "\n"
   ]
  },
  {
   "cell_type": "code",
   "execution_count": 28,
   "id": "ed425a7b",
   "metadata": {},
   "outputs": [],
   "source": [
    "import cv2\n",
    "import numpy as np\n",
    "from matplotlib import pyplot as plt\n",
    "\n"
   ]
  },
  {
   "cell_type": "markdown",
   "id": "167aa829",
   "metadata": {},
   "source": [
    "# Process video in While Loop\n",
    "display to window  \n",
    "Click on Window then hit q to exit process"
   ]
  },
  {
   "cell_type": "code",
   "execution_count": 29,
   "id": "66f98c38",
   "metadata": {},
   "outputs": [],
   "source": [
    "cap=cv2.VideoCapture(0)  # 30 sec to open camera\n",
    "while True:\n",
    "    ret, frame = cap.read() # if feed exist capture it else return false\n",
    "    cv2.imshow('frame',frame)\n",
    "    if cv2.waitKey(1) & 0xFF == ord('q'):\n",
    "        break\n",
    "cap.release()\n",
    "cv2.destroyAllWindows()"
   ]
  },
  {
   "cell_type": "code",
   "execution_count": null,
   "id": "2407af44",
   "metadata": {},
   "outputs": [],
   "source": []
  }
 ],
 "metadata": {
  "kernelspec": {
   "display_name": "Python 3",
   "language": "python",
   "name": "python3"
  },
  "language_info": {
   "codemirror_mode": {
    "name": "ipython",
    "version": 3
   },
   "file_extension": ".py",
   "mimetype": "text/x-python",
   "name": "python",
   "nbconvert_exporter": "python",
   "pygments_lexer": "ipython3",
   "version": "3.8.8"
  }
 },
 "nbformat": 4,
 "nbformat_minor": 5
}
